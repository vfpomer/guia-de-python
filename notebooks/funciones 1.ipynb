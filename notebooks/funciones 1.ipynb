{
 "cells": [
  {
   "cell_type": "markdown",
   "id": "cfbeaa03",
   "metadata": {},
   "source": [
    "# Funciones"
   ]
  },
  {
   "cell_type": "markdown",
   "id": "52aaa6c1",
   "metadata": {},
   "source": [
    "## Bloques de codigo reutilizables, se disenan para realizar una tarea especifica. "
   ]
  },
  {
   "cell_type": "markdown",
   "id": "2365a26f",
   "metadata": {},
   "source": [
    "Evitar la repeticion de codigo <br>\n",
    "Modularizar nuestro programa  <br>\n",
    "Mejarmos la legibilidad de nuestro code <br>\n",
    "Crear librerias propias  <br>\n",
    "Facilita el mantenimiento"
   ]
  },
  {
   "cell_type": "code",
   "execution_count": null,
   "id": "2e6820d2",
   "metadata": {},
   "outputs": [],
   "source": [
    "# Sintaxis basica de una funcion\n",
    "\n",
    "def nombre_de_la_funcion(parametros1, parametros2...):\n",
    "    \"\"\"\n",
    "    Documentacion de la funcion\n",
    "    \"\"\"\n",
    "    # Cuerpo de la funcion , instrucciones a ejecutar\n",
    "    return resultado"
   ]
  },
  {
   "cell_type": "code",
   "execution_count": 1,
   "id": "ce6f2f41",
   "metadata": {},
   "outputs": [],
   "source": [
    "def saludar (nombre):\n",
    "    \"\"\"\n",
    "    Esta funcion imprime un saludo\n",
    "    \"\"\"\n",
    "    return f'Hola {nombre}'"
   ]
  },
  {
   "cell_type": "code",
   "execution_count": 2,
   "id": "6c7f99b3",
   "metadata": {},
   "outputs": [
    {
     "data": {
      "text/plain": [
       "'Hola Juan'"
      ]
     },
     "execution_count": 2,
     "metadata": {},
     "output_type": "execute_result"
    }
   ],
   "source": [
    "saludar('Juan')"
   ]
  },
  {
   "cell_type": "code",
   "execution_count": 3,
   "id": "57ee018e",
   "metadata": {},
   "outputs": [
    {
     "data": {
      "text/plain": [
       "'Hola Pedro'"
      ]
     },
     "execution_count": 3,
     "metadata": {},
     "output_type": "execute_result"
    }
   ],
   "source": [
    "saludar('Pedro')"
   ]
  },
  {
   "cell_type": "markdown",
   "id": "3c4b083c",
   "metadata": {},
   "source": [
    "#### Parametros de una funcion, son las variables que aparecen en la definicion de la funcion\n",
    "#### los argumentos son los valores que la pasamos a la funcion cuando la llamamos "
   ]
  },
  {
   "cell_type": "code",
   "execution_count": 4,
   "id": "d7457d6e",
   "metadata": {},
   "outputs": [],
   "source": [
    "def describir_persona(nombre, edad, ciudad):\n",
    "    \"\"\"\n",
    "    Esta funcion describe a una persona\n",
    "    \"\"\"\n",
    "    return f'{nombre} tiene {edad} años y vive en {ciudad}'"
   ]
  },
  {
   "cell_type": "code",
   "execution_count": 5,
   "id": "7358cd2a",
   "metadata": {},
   "outputs": [
    {
     "data": {
      "text/plain": [
       "'Juan tiene 30 años y vive en Madrid'"
      ]
     },
     "execution_count": 5,
     "metadata": {},
     "output_type": "execute_result"
    }
   ],
   "source": [
    "describir_persona('Juan', 30, 'Madrid')"
   ]
  },
  {
   "cell_type": "code",
   "execution_count": 6,
   "id": "89757846",
   "metadata": {},
   "outputs": [
    {
     "data": {
      "text/plain": [
       "'Juan tiene 30 años y vive en Madrid'"
      ]
     },
     "execution_count": 6,
     "metadata": {},
     "output_type": "execute_result"
    }
   ],
   "source": [
    "describir_persona(edad=30, ciudad='Madrid', nombre='Juan')"
   ]
  },
  {
   "cell_type": "code",
   "execution_count": 8,
   "id": "cc19ef24",
   "metadata": {},
   "outputs": [],
   "source": [
    "#n var de argumentos , *args (tuplas de argumentos posicionales)\n",
    "\n",
    "def sumar(*numeros):\n",
    "    \"\"\"\n",
    "    Esta funcion suma una cantidad indefinida de numeros\n",
    "    \"\"\"\n",
    "    total = 0\n",
    "    for numero in numeros:\n",
    "        total += numero\n",
    "    return total\n",
    "\n"
   ]
  },
  {
   "cell_type": "code",
   "execution_count": 9,
   "id": "5b6f2047",
   "metadata": {},
   "outputs": [
    {
     "data": {
      "text/plain": [
       "15"
      ]
     },
     "execution_count": 9,
     "metadata": {},
     "output_type": "execute_result"
    }
   ],
   "source": [
    "sumar(1, 2, 3, 4, 5)"
   ]
  },
  {
   "cell_type": "code",
   "execution_count": 11,
   "id": "666ef52e",
   "metadata": {},
   "outputs": [],
   "source": [
    "# Con **kwargs (diccionarios de argumentos nombrados)\n",
    "\n",
    "def datos_personales(**datos):\n",
    "    \"\"\"\n",
    "    Esta funcion imprime los datos personales de una persona\n",
    "    \"\"\"\n",
    "    for clave, valor in datos.items():\n",
    "        print(f'{clave}: {valor}')"
   ]
  },
  {
   "cell_type": "code",
   "execution_count": 12,
   "id": "726036ba",
   "metadata": {},
   "outputs": [
    {
     "name": "stdout",
     "output_type": "stream",
     "text": [
      "nombre: Juan\n",
      "edad: 30\n",
      "ciudad: Madrid\n",
      "profesion: Ingeniero\n"
     ]
    }
   ],
   "source": [
    "datos_personales(nombre='Juan', edad=30, ciudad='Madrid', profesion='Ingeniero')"
   ]
  },
  {
   "cell_type": "code",
   "execution_count": 13,
   "id": "22927a11",
   "metadata": {},
   "outputs": [],
   "source": [
    "# como usar el return de  una funcion para devolver el valor de una var\n",
    "\n",
    "def calcular_area_rectangulo(base, altura):\n",
    "    \"\"\"\n",
    "    Esta funcion calcula el area de un rectangulo\n",
    "    \"\"\"\n",
    "    area = base * altura\n",
    "    return area"
   ]
  },
  {
   "cell_type": "code",
   "execution_count": 14,
   "id": "dca1b0c5",
   "metadata": {},
   "outputs": [
    {
     "data": {
      "text/plain": [
       "50"
      ]
     },
     "execution_count": 14,
     "metadata": {},
     "output_type": "execute_result"
    }
   ],
   "source": [
    "calcular_area_rectangulo(5, 10)"
   ]
  },
  {
   "cell_type": "code",
   "execution_count": 15,
   "id": "649f56a4",
   "metadata": {},
   "outputs": [],
   "source": [
    "# si tengo una var externa y quiero modificarla internamente podemos usar global\n",
    "\n",
    "z = 5 \n",
    "\n",
    "def modificar_z():\n",
    "    \"\"\"\n",
    "    Esta funcion modifica la variable z\n",
    "    \"\"\"\n",
    "    global z\n",
    "    z = 10\n",
    "    return z"
   ]
  },
  {
   "cell_type": "code",
   "execution_count": 19,
   "id": "4b298404",
   "metadata": {},
   "outputs": [
    {
     "data": {
      "text/plain": [
       "10"
      ]
     },
     "execution_count": 19,
     "metadata": {},
     "output_type": "execute_result"
    }
   ],
   "source": [
    "modificar_z()"
   ]
  },
  {
   "cell_type": "code",
   "execution_count": 17,
   "id": "448de03d",
   "metadata": {},
   "outputs": [
    {
     "data": {
      "text/plain": [
       "10"
      ]
     },
     "execution_count": 17,
     "metadata": {},
     "output_type": "execute_result"
    }
   ],
   "source": [
    "z"
   ]
  },
  {
   "cell_type": "markdown",
   "id": "935ad0c1",
   "metadata": {},
   "source": [
    "## Lambda"
   ]
  },
  {
   "cell_type": "code",
   "execution_count": null,
   "id": "cd37a0eb",
   "metadata": {},
   "outputs": [],
   "source": [
    "# Son funciones anonimas , estan definidas con la palabra reservada lambda y son  utiles cuando necesitamos una funcion simple por un breve periodo de tiempo\n",
    "\n",
    "#Sintaxis de la funcion \n",
    "\n",
    "lambda argumentos: expresion\n",
    "\n",
    "# Caracteristicas: \n",
    "# - Solo pueden contener una expresion ( no multiple lineas e instrucciones)\n",
    "# - No necesitan la palabra return (la expresion se devuelve automaticamente)\n",
    "# - No tienen nombre a no ser que se guarden dentro de una variable"
   ]
  },
  {
   "cell_type": "code",
   "execution_count": null,
   "id": "9817a461",
   "metadata": {},
   "outputs": [],
   "source": [
    "lambda_suma = lambda a, b: a + b"
   ]
  },
  {
   "cell_type": "code",
   "execution_count": null,
   "id": "168ffdb7",
   "metadata": {},
   "outputs": [],
   "source": [
    "#USo con funciones de orden superior \n",
    "# map, filter y sorted\n",
    "# - map: aplica una funcion a cada elemento de un iterable y devuelve un nuevo iterable con los resultados\n",
    "# - filter: filtra los elementos de un iterable segun una funcion y devuelve un nuevo iterable con los elementos que cumplen la condicion\n",
    "# - sorted: ordena los elementos de un iterable segun una funcion y devuelve una lista con los elementos ordenados\n",
    "# - list : convierte un iterable en una lista\n",
    "# - set : convierte un iterable en un conjunto\n",
    "# - tuple : convierte un iterable en una tupla\n",
    "# - dict : convierte un iterable en un diccionario\n",
    "# - zip : combina varios iterables en un solo iterable de tuplas\n",
    "# - enumerate : devuelve un iterable de tuplas con el indice y el valor de cada elemento de un iterable\n",
    "# -reduce : aplica una funcion a los elementos de un iterable y devuelve un solo valor"
   ]
  },
  {
   "cell_type": "code",
   "execution_count": 21,
   "id": "e728a503",
   "metadata": {},
   "outputs": [],
   "source": [
    "numeros = [1, 2, 3, 4, 5]\n",
    "cuadrados = list(map(lambda x: x**2, numeros))"
   ]
  },
  {
   "cell_type": "code",
   "execution_count": 22,
   "id": "f102e0b4",
   "metadata": {},
   "outputs": [
    {
     "data": {
      "text/plain": [
       "[1, 4, 9, 16, 25]"
      ]
     },
     "execution_count": 22,
     "metadata": {},
     "output_type": "execute_result"
    }
   ],
   "source": [
    "cuadrados"
   ]
  },
  {
   "cell_type": "markdown",
   "id": "caed2c88",
   "metadata": {},
   "source": [
    "Ejercicio 1: Generador de Contraseñas Simple <br>\n",
    "Escribe una función que genere una contraseña aleatoria con la longitud especificada. Usa import random y import string"
   ]
  },
  {
   "cell_type": "code",
   "execution_count": 26,
   "id": "a26d6bf1",
   "metadata": {},
   "outputs": [],
   "source": [
    "import random\n",
    "import string\n",
    "from typing import Dict, List, Optional, Tuple\n",
    "\n",
    "def generar_contrasena(longitud: int = 12, \n",
    "                       incluir_tipos: Optional[Dict[str, bool]] = None,\n",
    "                       requisitos_minimos: Optional[Dict[str, int]] = None) -> str:\n",
    "    \"\"\"\n",
    "    Genera una contraseña aleatoria segura.\n",
    "    \n",
    "    Args:\n",
    "        longitud: Longitud total de la contraseña.\n",
    "        incluir_tipos: Diccionario que especifica qué tipos de caracteres incluir.\n",
    "                       Por defecto incluye todos los tipos.\n",
    "        requisitos_minimos: Diccionario que especifica el mínimo de caracteres de cada tipo.\n",
    "                          Por defecto requiere al menos uno de cada tipo.\n",
    "    \n",
    "    Returns:\n",
    "        str: Contraseña generada que cumple con los requisitos especificados.\n",
    "        \n",
    "    Raises:\n",
    "        ValueError: Si los requisitos son incompatibles con la longitud.\n",
    "    \"\"\"\n",
    "    # Valores predeterminados\n",
    "    tipos_default = {\n",
    "        'mayusculas': True,\n",
    "        'minusculas': True, \n",
    "        'numeros': True, \n",
    "        'simbolos': True\n",
    "    }\n",
    "    \n",
    "    # Usar valores predeterminados si no se proporcionan\n",
    "    tipos = incluir_tipos or tipos_default\n",
    "    \n",
    "    # Mapeo de tipos de caracteres a sus conjuntos correspondientes\n",
    "    conjuntos_caracteres = {\n",
    "        'mayusculas': string.ascii_uppercase,\n",
    "        'minusculas': string.ascii_lowercase,\n",
    "        'numeros': string.digits,\n",
    "        'simbolos': string.punctuation\n",
    "    }\n",
    "    \n",
    "    # Requisitos mínimos predeterminados (al menos uno de cada tipo activo)\n",
    "    if requisitos_minimos is None:\n",
    "        requisitos_minimos = {tipo: 1 if activo else 0 \n",
    "                             for tipo, activo in tipos.items()}\n",
    "    \n",
    "    # Verificar que al menos un tipo esté activado\n",
    "    tipos_activos = [tipo for tipo, activo in tipos.items() if activo]\n",
    "    if not tipos_activos:\n",
    "        raise ValueError(\"Debe activar al menos un tipo de carácter\")\n",
    "    \n",
    "    # Calcular total de caracteres requeridos por los mínimos\n",
    "    total_minimos = sum(requisitos_minimos.get(tipo, 0) \n",
    "                       for tipo in tipos_activos)\n",
    "    \n",
    "    if total_minimos > longitud:\n",
    "        raise ValueError(f\"La longitud mínima para cumplir requisitos es {total_minimos}\")\n",
    "    \n",
    "    # Generar los caracteres mínimos requeridos\n",
    "    caracteres_obligatorios = []\n",
    "    for tipo in tipos_activos:\n",
    "        minimo = requisitos_minimos.get(tipo, 0)\n",
    "        if minimo > 0:\n",
    "            caracteres = conjuntos_caracteres[tipo]\n",
    "            caracteres_obligatorios.extend(random.choices(caracteres, k=minimo))\n",
    "    \n",
    "    # Crear el conjunto completo de caracteres disponibles\n",
    "    caracteres_disponibles = ''.join(conjuntos_caracteres[tipo] \n",
    "                                    for tipo in tipos_activos)\n",
    "    \n",
    "    # Completar hasta la longitud deseada\n",
    "    caracteres_restantes = longitud - len(caracteres_obligatorios)\n",
    "    contrasena_completa = caracteres_obligatorios + random.choices(\n",
    "        caracteres_disponibles, k=caracteres_restantes)\n",
    "    \n",
    "    # Mezclar todos los caracteres\n",
    "    random.shuffle(contrasena_completa)\n",
    "    \n",
    "    # Convertir a string\n",
    "    return ''.join(contrasena_completa)\n",
    "\n"
   ]
  },
  {
   "cell_type": "code",
   "execution_count": 27,
   "id": "24150286",
   "metadata": {},
   "outputs": [
    {
     "name": "stdout",
     "output_type": "stream",
     "text": [
      "Contraseña de 8 caracteres: ;23X-|m'\n",
      "Sin símbolos: xNMooC38dD\n",
      "Con requisitos: 1z`zkOGT:lq3\n"
     ]
    }
   ],
   "source": [
    "# Ejemplo de uso\n",
    "if __name__ == \"__main__\":\n",
    "    # Contraseña básica\n",
    "    print(f\"Contraseña de 8 caracteres: {generar_contrasena(8)}\")\n",
    "    \n",
    "    # Contraseña personalizada\n",
    "    tipos_personalizados = {'mayusculas': True, 'minusculas': True, \n",
    "                           'numeros': True, 'simbolos': False}\n",
    "    print(f\"Sin símbolos: {generar_contrasena(10, tipos_personalizados)}\")\n",
    "    \n",
    "    # Contraseña con requisitos específicos\n",
    "    requisitos = {'mayusculas': 2, 'minusculas': 3, 'numeros': 2, 'simbolos': 1}\n",
    "    print(f\"Con requisitos: {generar_contrasena(12, requisitos_minimos=requisitos)}\")"
   ]
  },
  {
   "cell_type": "markdown",
   "id": "75d55e53",
   "metadata": {},
   "source": [
    "Calculadora Funcional : <br>\n",
    "Crea una calculadora que use funciones lambda para las operaciones básicas y permita al usuario elegir la operación."
   ]
  },
  {
   "cell_type": "code",
   "execution_count": 28,
   "id": "ca142a59",
   "metadata": {},
   "outputs": [
    {
     "name": "stdout",
     "output_type": "stream",
     "text": [
      "\n",
      "==== CALCULADORA FUNCIONAL ====\n",
      "1. Suma +\n",
      "2. Resta -\n",
      "3. Multiplicación *\n",
      "4. División /\n",
      "5. Potencia ^\n",
      "6. Módulo %\n",
      "7. Raíz √\n",
      "0. Salir\n",
      "\n",
      "Operación: 3.0 + 2.0\n",
      "Resultado: 5.0\n",
      "¡Gracias por usar la calculadora!\n"
     ]
    }
   ],
   "source": [
    "def calculadora():\n",
    "    \"\"\"\n",
    "    Calculadora que utiliza funciones lambda para realizar operaciones matemáticas básicas.\n",
    "    Permite al usuario elegir la operación e ingresar los operandos.\n",
    "    \"\"\"\n",
    "    # Definir operaciones usando funciones lambda\n",
    "    operaciones = {\n",
    "        '1': {\n",
    "            'nombre': 'Suma',\n",
    "            'simbolo': '+',\n",
    "            'funcion': lambda x, y: x + y\n",
    "        },\n",
    "        '2': {\n",
    "            'nombre': 'Resta',\n",
    "            'simbolo': '-',\n",
    "            'funcion': lambda x, y: x - y\n",
    "        },\n",
    "        '3': {\n",
    "            'nombre': 'Multiplicación',\n",
    "            'simbolo': '*',\n",
    "            'funcion': lambda x, y: x * y\n",
    "        },\n",
    "        '4': {\n",
    "            'nombre': 'División',\n",
    "            'simbolo': '/',\n",
    "            'funcion': lambda x, y: x / y if y != 0 else \"Error: División por cero\"\n",
    "        },\n",
    "        '5': {\n",
    "            'nombre': 'Potencia',\n",
    "            'simbolo': '^',\n",
    "            'funcion': lambda x, y: x ** y\n",
    "        },\n",
    "        '6': {\n",
    "            'nombre': 'Módulo',\n",
    "            'simbolo': '%',\n",
    "            'funcion': lambda x, y: x % y if y != 0 else \"Error: Módulo por cero\"\n",
    "        },\n",
    "        '7': {\n",
    "            'nombre': 'Raíz',\n",
    "            'simbolo': '√',\n",
    "            'funcion': lambda x, y: x ** (1/y) if y != 0 else \"Error: Exponente inválido\"\n",
    "        }\n",
    "    }\n",
    "\n",
    "    def mostrar_menu():\n",
    "        \"\"\"Muestra el menú de operaciones disponibles\"\"\"\n",
    "        print(\"\\n==== CALCULADORA FUNCIONAL ====\")\n",
    "        for key, op in operaciones.items():\n",
    "            print(f\"{key}. {op['nombre']} {op['simbolo']}\")\n",
    "        print(\"0. Salir\")\n",
    "        return input(\"\\nSeleccione una operación (0-7): \")\n",
    "\n",
    "    def obtener_numeros():\n",
    "        \"\"\"Solicita y valida los números para la operación\"\"\"\n",
    "        try:\n",
    "            num1 = float(input(\"Primer número: \"))\n",
    "            num2 = float(input(\"Segundo número: \"))\n",
    "            return num1, num2\n",
    "        except ValueError:\n",
    "            print(\"Error: Ingrese solo valores numéricos\")\n",
    "            return obtener_numeros()\n",
    "\n",
    "    # Bucle principal\n",
    "    while True:\n",
    "        opcion = mostrar_menu()\n",
    "        \n",
    "        if opcion == '0':\n",
    "            print(\"¡Gracias por usar la calculadora!\")\n",
    "            break\n",
    "            \n",
    "        if opcion not in operaciones:\n",
    "            print(\"Opción inválida. Intente nuevamente.\")\n",
    "            continue\n",
    "            \n",
    "        num1, num2 = obtener_numeros()\n",
    "        operacion = operaciones[opcion]\n",
    "        \n",
    "        # Aplicar la función lambda correspondiente\n",
    "        resultado = operacion['funcion'](num1, num2)\n",
    "        \n",
    "        # Mostrar el resultado\n",
    "        print(f\"\\nOperación: {num1} {operacion['simbolo']} {num2}\")\n",
    "        print(f\"Resultado: {resultado}\")\n",
    "        \n",
    "        # Preguntar si desea continuar\n",
    "        continuar = input(\"\\n¿Desea realizar otra operación? (s/n): \").lower()\n",
    "        if continuar != 's':\n",
    "            print(\"¡Gracias por usar la calculadora!\")\n",
    "            break\n",
    "\n",
    "if __name__ == \"__main__\":\n",
    "    calculadora()"
   ]
  }
 ],
 "metadata": {
  "kernelspec": {
   "display_name": "Python 3",
   "language": "python",
   "name": "python3"
  },
  "language_info": {
   "codemirror_mode": {
    "name": "ipython",
    "version": 3
   },
   "file_extension": ".py",
   "mimetype": "text/x-python",
   "name": "python",
   "nbconvert_exporter": "python",
   "pygments_lexer": "ipython3",
   "version": "3.13.3"
  }
 },
 "nbformat": 4,
 "nbformat_minor": 5
}
