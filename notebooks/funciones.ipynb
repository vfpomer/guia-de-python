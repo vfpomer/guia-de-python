{
 "cells": [
  {
   "cell_type": "markdown",
   "id": "cfbeaa03",
   "metadata": {},
   "source": [
    "# Funciones"
   ]
  },
  {
   "cell_type": "markdown",
   "id": "52aaa6c1",
   "metadata": {},
   "source": [
    "## Bloques de codigo reutilizables, se disenan para realizar una tarea especifica. "
   ]
  },
  {
   "cell_type": "markdown",
   "id": "2365a26f",
   "metadata": {},
   "source": [
    "Evitar la repeticion de codigo <br>\n",
    "Modularizar nuestro programa  <br>\n",
    "Mejarmos la legibilidad de nuestro code <br>\n",
    "Crear librerias propias  <br>\n",
    "Facilita el mantenimiento"
   ]
  },
  {
   "cell_type": "code",
   "execution_count": null,
   "id": "2e6820d2",
   "metadata": {},
   "outputs": [],
   "source": [
    "# Sintaxis basica de una funcion\n",
    "\n",
    "def nombre_de_la_funcion(parametros1, parametros2...):\n",
    "    \"\"\"\n",
    "    Documentacion de la funcion\n",
    "    \"\"\"\n",
    "    # Cuerpo de la funcion , instrucciones a ejecutar\n",
    "    return resultado"
   ]
  },
  {
   "cell_type": "code",
   "execution_count": 1,
   "id": "ce6f2f41",
   "metadata": {},
   "outputs": [],
   "source": [
    "def saludar (nombre):\n",
    "    \"\"\"\n",
    "    Esta funcion imprime un saludo\n",
    "    \"\"\"\n",
    "    return f'Hola {nombre}'"
   ]
  },
  {
   "cell_type": "code",
   "execution_count": 2,
   "id": "6c7f99b3",
   "metadata": {},
   "outputs": [
    {
     "data": {
      "text/plain": [
       "'Hola Juan'"
      ]
     },
     "execution_count": 2,
     "metadata": {},
     "output_type": "execute_result"
    }
   ],
   "source": [
    "saludar('Juan')"
   ]
  },
  {
   "cell_type": "code",
   "execution_count": 3,
   "id": "57ee018e",
   "metadata": {},
   "outputs": [
    {
     "data": {
      "text/plain": [
       "'Hola Pedro'"
      ]
     },
     "execution_count": 3,
     "metadata": {},
     "output_type": "execute_result"
    }
   ],
   "source": [
    "saludar('Pedro')"
   ]
  },
  {
   "cell_type": "markdown",
   "id": "3c4b083c",
   "metadata": {},
   "source": [
    "#### Parametros de una funcion, son las variables que aparecen en la definicion de la funcion\n",
    "#### los argumentos son los valores que la pasamos a la funcion cuando la llamamos "
   ]
  },
  {
   "cell_type": "code",
   "execution_count": 4,
   "id": "d7457d6e",
   "metadata": {},
   "outputs": [],
   "source": [
    "def describir_persona(nombre, edad, ciudad):\n",
    "    \"\"\"\n",
    "    Esta funcion describe a una persona\n",
    "    \"\"\"\n",
    "    return f'{nombre} tiene {edad} años y vive en {ciudad}'"
   ]
  },
  {
   "cell_type": "code",
   "execution_count": 5,
   "id": "7358cd2a",
   "metadata": {},
   "outputs": [
    {
     "data": {
      "text/plain": [
       "'Juan tiene 30 años y vive en Madrid'"
      ]
     },
     "execution_count": 5,
     "metadata": {},
     "output_type": "execute_result"
    }
   ],
   "source": [
    "describir_persona('Juan', 30, 'Madrid')"
   ]
  },
  {
   "cell_type": "code",
   "execution_count": 6,
   "id": "89757846",
   "metadata": {},
   "outputs": [
    {
     "data": {
      "text/plain": [
       "'Juan tiene 30 años y vive en Madrid'"
      ]
     },
     "execution_count": 6,
     "metadata": {},
     "output_type": "execute_result"
    }
   ],
   "source": [
    "describir_persona(edad=30, ciudad='Madrid', nombre='Juan')"
   ]
  },
  {
   "cell_type": "code",
   "execution_count": 8,
   "id": "cc19ef24",
   "metadata": {},
   "outputs": [],
   "source": [
    "#n var de argumentos , *args (tuplas de argumentos posicionales)\n",
    "\n",
    "def sumar(*numeros):\n",
    "    \"\"\"\n",
    "    Esta funcion suma una cantidad indefinida de numeros\n",
    "    \"\"\"\n",
    "    total = 0\n",
    "    for numero in numeros:\n",
    "        total += numero\n",
    "    return total\n",
    "\n"
   ]
  },
  {
   "cell_type": "code",
   "execution_count": 9,
   "id": "5b6f2047",
   "metadata": {},
   "outputs": [
    {
     "data": {
      "text/plain": [
       "15"
      ]
     },
     "execution_count": 9,
     "metadata": {},
     "output_type": "execute_result"
    }
   ],
   "source": [
    "sumar(1, 2, 3, 4, 5)"
   ]
  },
  {
   "cell_type": "code",
   "execution_count": 11,
   "id": "666ef52e",
   "metadata": {},
   "outputs": [],
   "source": [
    "# Con **kwargs (diccionarios de argumentos nombrados)\n",
    "\n",
    "def datos_personales(**datos):\n",
    "    \"\"\"\n",
    "    Esta funcion imprime los datos personales de una persona\n",
    "    \"\"\"\n",
    "    for clave, valor in datos.items():\n",
    "        print(f'{clave}: {valor}')"
   ]
  },
  {
   "cell_type": "code",
   "execution_count": 12,
   "id": "726036ba",
   "metadata": {},
   "outputs": [
    {
     "name": "stdout",
     "output_type": "stream",
     "text": [
      "nombre: Juan\n",
      "edad: 30\n",
      "ciudad: Madrid\n",
      "profesion: Ingeniero\n"
     ]
    }
   ],
   "source": [
    "datos_personales(nombre='Juan', edad=30, ciudad='Madrid', profesion='Ingeniero')"
   ]
  },
  {
   "cell_type": "code",
   "execution_count": 13,
   "id": "22927a11",
   "metadata": {},
   "outputs": [],
   "source": [
    "# como usar el return de  una funcion para devolver el valor de una var\n",
    "\n",
    "def calcular_area_rectangulo(base, altura):\n",
    "    \"\"\"\n",
    "    Esta funcion calcula el area de un rectangulo\n",
    "    \"\"\"\n",
    "    area = base * altura\n",
    "    return area"
   ]
  },
  {
   "cell_type": "code",
   "execution_count": 14,
   "id": "dca1b0c5",
   "metadata": {},
   "outputs": [
    {
     "data": {
      "text/plain": [
       "50"
      ]
     },
     "execution_count": 14,
     "metadata": {},
     "output_type": "execute_result"
    }
   ],
   "source": [
    "calcular_area_rectangulo(5, 10)"
   ]
  },
  {
   "cell_type": "code",
   "execution_count": 15,
   "id": "649f56a4",
   "metadata": {},
   "outputs": [],
   "source": [
    "# si tengo una var externa y quiero modificarla internamente podemos usar global\n",
    "\n",
    "z = 5 \n",
    "\n",
    "def modificar_z():\n",
    "    \"\"\"\n",
    "    Esta funcion modifica la variable z\n",
    "    \"\"\"\n",
    "    global z\n",
    "    z = 10\n",
    "    return z"
   ]
  },
  {
   "cell_type": "code",
   "execution_count": 19,
   "id": "4b298404",
   "metadata": {},
   "outputs": [
    {
     "data": {
      "text/plain": [
       "10"
      ]
     },
     "execution_count": 19,
     "metadata": {},
     "output_type": "execute_result"
    }
   ],
   "source": [
    "modificar_z()"
   ]
  },
  {
   "cell_type": "code",
   "execution_count": 17,
   "id": "448de03d",
   "metadata": {},
   "outputs": [
    {
     "data": {
      "text/plain": [
       "10"
      ]
     },
     "execution_count": 17,
     "metadata": {},
     "output_type": "execute_result"
    }
   ],
   "source": [
    "z"
   ]
  },
  {
   "cell_type": "markdown",
   "id": "935ad0c1",
   "metadata": {},
   "source": [
    "## Lambda"
   ]
  },
  {
   "cell_type": "code",
   "execution_count": null,
   "id": "cd37a0eb",
   "metadata": {},
   "outputs": [],
   "source": [
    "# Son funciones anonimas , estan definidas con la palabra reservada lambda y son  utiles cuando necesitamos una funcion simple por un breve periodo de tiempo\n",
    "\n",
    "#Sintaxis de la funcion \n",
    "\n",
    "lambda argumentos: expresion\n",
    "\n",
    "# Caracteristicas: \n",
    "# - Solo pueden contener una expresion ( no multiple lineas e instrucciones)\n",
    "# - No necesitan la palabra return (la expresion se devuelve automaticamente)\n",
    "# - No tienen nombre a no ser que se guarden dentro de una variable"
   ]
  },
  {
   "cell_type": "code",
   "execution_count": null,
   "id": "9817a461",
   "metadata": {},
   "outputs": [],
   "source": [
    "lambda_suma = lambda a, b: a + b"
   ]
  },
  {
   "cell_type": "code",
   "execution_count": null,
   "id": "168ffdb7",
   "metadata": {},
   "outputs": [],
   "source": [
    "#USo con funciones de orden superior \n",
    "# map, filter y sorted\n",
    "# - map: aplica una funcion a cada elemento de un iterable y devuelve un nuevo iterable con los resultados\n",
    "# - filter: filtra los elementos de un iterable segun una funcion y devuelve un nuevo iterable con los elementos que cumplen la condicion\n",
    "# - sorted: ordena los elementos de un iterable segun una funcion y devuelve una lista con los elementos ordenados\n",
    "# - list : convierte un iterable en una lista\n",
    "# - set : convierte un iterable en un conjunto\n",
    "# - tuple : convierte un iterable en una tupla\n",
    "# - dict : convierte un iterable en un diccionario\n",
    "# - zip : combina varios iterables en un solo iterable de tuplas\n",
    "# - enumerate : devuelve un iterable de tuplas con el indice y el valor de cada elemento de un iterable\n",
    "# -reduce : aplica una funcion a los elementos de un iterable y devuelve un solo valor"
   ]
  },
  {
   "cell_type": "code",
   "execution_count": 21,
   "id": "e728a503",
   "metadata": {},
   "outputs": [],
   "source": [
    "numeros = [1, 2, 3, 4, 5]\n",
    "cuadrados = list(map(lambda x: x**2, numeros))"
   ]
  },
  {
   "cell_type": "code",
   "execution_count": 22,
   "id": "f102e0b4",
   "metadata": {},
   "outputs": [
    {
     "data": {
      "text/plain": [
       "[1, 4, 9, 16, 25]"
      ]
     },
     "execution_count": 22,
     "metadata": {},
     "output_type": "execute_result"
    }
   ],
   "source": [
    "cuadrados"
   ]
  },
  {
   "cell_type": "markdown",
   "id": "caed2c88",
   "metadata": {},
   "source": [
    "Ejercicio 1: Generador de Contraseñas Simple <br>\n",
    "Escribe una función que genere una contraseña aleatoria con la longitud especificada. Usa import random y import string"
   ]
  },
  {
   "cell_type": "code",
   "execution_count": 3,
   "id": "40de7875",
   "metadata": {},
   "outputs": [
    {
     "name": "stdout",
     "output_type": "stream",
     "text": [
      "x/!'8w%L\n"
     ]
    },
    {
     "data": {
      "text/plain": [
       "']s`Q5'"
      ]
     },
     "execution_count": 3,
     "metadata": {},
     "output_type": "execute_result"
    }
   ],
   "source": [
    "import random\n",
    "import string\n",
    "def generar_contrasenya(longitud):\n",
    "    \"\"\"Genera una contrasenya aleatoria\"\"\"    \n",
    "    if longitud < 3:\n",
    "        return \"La longitud de la contrasenya debe ser mayor a 3\"\n",
    "    elif longitud > 10:   \n",
    "        return \"La longitud de la contrasenya no puede ser mayor a 10\"\n",
    "    \n",
    "    caracteres = string.ascii_letters + string.digits + string.punctuation\n",
    "    contrasenya = ''.join(random.choice(caracteres) for letra in range(longitud))\n",
    "    '''\n",
    "    - join une los caracteres elegidos aleatoriamente en una cadena\n",
    "    - random.choice selecciona un caracter aleatorio de la cadena caracteres    \n",
    "    - range(longitud) genera una secuencia de números desde 0 hasta longitud-1\n",
    "    - for letra in range(longitud) itera sobre la secuencia de números generada por range   \n",
    "    - '' significa que no queremos ningun separador entre los caracteres elegidos aleatoriamene'''\n",
    "    return contrasenya\n",
    "\n",
    "print( generar_contrasenya(8) )\n",
    "\n",
    "generar_contrasenya(5)"
   ]
  },
  {
   "cell_type": "markdown",
   "id": "21f7340d",
   "metadata": {},
   "source": [
    "Calculadora Funcional : <br>\n",
    "Crea una calculadora que use funciones lambda para las operaciones básicas y permita al usuario elegir la operación."
   ]
  },
  {
   "cell_type": "code",
   "execution_count": 13,
   "id": "fa1cf1ed",
   "metadata": {},
   "outputs": [
    {
     "data": {
      "text/plain": [
       "14"
      ]
     },
     "execution_count": 13,
     "metadata": {},
     "output_type": "execute_result"
    }
   ],
   "source": [
    "\n",
    "resultado_lambda = lambda num1, num2, operacion: num1 + num2 if operacion == \"suma\" or \"SUMA\" or '+' else num1 - num2 if operacion == \"resta\" or \"RESTA\" or '-' else num1 * num2 if operacion == \"multiplicacion\" or \"MULTIPLICACION\" or '*' else num1 / num2 if operacion == \"division\" or \"DIVISION\" or '/' else \"Operacion no valida\"\n",
    "\n",
    "resultado_lambda(7,7,'+')"
   ]
  },
  {
   "cell_type": "code",
   "execution_count": 21,
   "id": "968ffd66",
   "metadata": {},
   "outputs": [
    {
     "data": {
      "text/plain": [
       "5764801"
      ]
     },
     "execution_count": 21,
     "metadata": {},
     "output_type": "execute_result"
    }
   ],
   "source": [
    "tipo = input(\"Introduce la operacion que quieres realizar (suma, resta, multiplicacion, division, entera, potencia o modulo): \")\n",
    "\n",
    "def operacion(num1, num2):\n",
    "    if tipo == \"suma\" or tipo == \"SUMA\" or tipo == '+':\n",
    "        resultado = num1 + num2\n",
    "    elif tipo == \"resta\" or tipo == \"RESTA\" or tipo == '-':    \n",
    "        resultado = num1 - num2\n",
    "    elif tipo == \"multiplicacion\" or tipo == \"MULTIPLICACION\" or tipo == '*':\n",
    "        resultado = num1 * num2\n",
    "    elif tipo == \"division\" or tipo == \"DIVISION\" or tipo == '/':\n",
    "        resultado = num1 / num2 \n",
    "    elif tipo == \"entera\" or tipo == \"ENTERA\" or tipo == '//':\n",
    "        resultado = num1 // num2\n",
    "    elif tipo == \"potencia\" or tipo == \"POTENCIA\" or tipo == '**':\n",
    "        resultado = num1 ** num2\n",
    "    elif tipo == \"modulo\" or tipo == \"MODULO\" or tipo == '%':\n",
    "        resultado = num1 % num2\n",
    "    else:\n",
    "        resultado = \"Operacion no valida\"\n",
    "    return resultado\n",
    "\n",
    "operacion(7,8)"
   ]
  }
 ],
 "metadata": {
  "kernelspec": {
   "display_name": "Python 3",
   "language": "python",
   "name": "python3"
  },
  "language_info": {
   "codemirror_mode": {
    "name": "ipython",
    "version": 3
   },
   "file_extension": ".py",
   "mimetype": "text/x-python",
   "name": "python",
   "nbconvert_exporter": "python",
   "pygments_lexer": "ipython3",
   "version": "3.13.1"
  }
 },
 "nbformat": 4,
 "nbformat_minor": 5
}
