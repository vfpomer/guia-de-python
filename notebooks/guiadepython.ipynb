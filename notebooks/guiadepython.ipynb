{
 "cells": [
  {
   "cell_type": "markdown",
   "id": "1333ed7b",
   "metadata": {},
   "source": [
    "Guía de python"
   ]
  },
  {
   "cell_type": "markdown",
   "id": "81c3e7a7",
   "metadata": {},
   "source": [
    "Mi primer Hola Mundo"
   ]
  },
  {
   "cell_type": "code",
   "execution_count": 1,
   "id": "c574da0c",
   "metadata": {},
   "outputs": [
    {
     "name": "stdout",
     "output_type": "stream",
     "text": [
      "hola mundo\n"
     ]
    }
   ],
   "source": [
    "print('hola mundo')"
   ]
  },
  {
   "cell_type": "markdown",
   "id": "0ae1068f",
   "metadata": {},
   "source": [
    "# Comentarios en python"
   ]
  },
  {
   "cell_type": "code",
   "execution_count": null,
   "id": "06e2e61d",
   "metadata": {},
   "outputs": [
    {
     "name": "stdout",
     "output_type": "stream",
     "text": [
      "hola mundo\n"
     ]
    }
   ],
   "source": [
    "print('hola mundo') #comentario\n",
    "\n",
    "'''\n",
    "Comentario de varias lineas\n",
    "'''\n",
    "\n",
    "\"\"\" Comentario\"\"\""
   ]
  },
  {
   "cell_type": "markdown",
   "id": "e316932b",
   "metadata": {},
   "source": [
    "## variables\n",
    "Son valores que se almacenan en la memoria."
   ]
  },
  {
   "cell_type": "markdown",
   "id": "6b2ce514",
   "metadata": {},
   "source": [
    "### reglas de variables\n",
    "#### Deben comenzar con una letra o un guion bajo\n",
    "#### No pueden comenzar con un numero\n",
    "#### Solo pueden contener caracteres alfanumericos\n",
    "#### Son sensibles a las mayus y minus"
   ]
  },
  {
   "cell_type": "code",
   "execution_count": null,
   "id": "b69809d7",
   "metadata": {},
   "outputs": [],
   "source": [
    "nombre = 'Juan'\n",
    "edad_usuario = 25\n",
    "_contador = 0\n",
    "valorTotal = 100.5"
   ]
  },
  {
   "cell_type": "markdown",
   "id": "18884889",
   "metadata": {},
   "source": [
    "# Tipos de datos"
   ]
  },
  {
   "cell_type": "code",
   "execution_count": 6,
   "id": "a8a02356",
   "metadata": {},
   "outputs": [
    {
     "name": "stdout",
     "output_type": "stream",
     "text": [
      "<class 'int'>\n",
      "<class 'float'>\n"
     ]
    }
   ],
   "source": [
    "#Enteros o int\n",
    "edad = 25\n",
    "cantidad_estudiantes = -10\n",
    "\n",
    "#Flotantes o float\n",
    "altura = 1.75\n",
    "temperatura = -10.5\n",
    "\n",
    "#verificar tipos\n",
    "print(type(edad)) #<class 'int'>\n",
    "print(type(altura)) #<class 'float'>\n"
   ]
  },
  {
   "cell_type": "code",
   "execution_count": 5,
   "id": "2366d976",
   "metadata": {},
   "outputs": [
    {
     "name": "stdout",
     "output_type": "stream",
     "text": [
      "<class 'int'>\n",
      "<class 'float'>\n"
     ]
    }
   ],
   "source": [
    "#convertir\n",
    "a = 10\n",
    "b = float(a)\n",
    "print(type(a)) #<class 'int'>\n",
    "print(type(b)) #<class 'float'>"
   ]
  },
  {
   "cell_type": "code",
   "execution_count": null,
   "id": "440d9606",
   "metadata": {},
   "outputs": [
    {
     "data": {
      "text/plain": [
       "15"
      ]
     },
     "execution_count": 7,
     "metadata": {},
     "output_type": "execute_result"
    }
   ],
   "source": [
    "suma = 10 + 5\n",
    "resta = 10 - 5\n",
    "multiplicacion = 10 * 5\n",
    "division = 10 / 5\n",
    "division_entera = 10 // 3 #division entera\n",
    "modulo = 10 % 3 #residuo de la division\n",
    "potencia = 10 ** 3 #potencia\n",
    "suma"
   ]
  },
  {
   "cell_type": "code",
   "execution_count": null,
   "id": "5fa74aa2",
   "metadata": {},
   "outputs": [
    {
     "data": {
      "text/plain": [
       "'Juan Pérez'"
      ]
     },
     "execution_count": 9,
     "metadata": {},
     "output_type": "execute_result"
    }
   ],
   "source": [
    "#Strings o cadenas de texto\n",
    "nombre = 'Juan'\n",
    "apellido = \"Pérez\"\n",
    "frase = 'Hola, soy Juan Pérez y tengo 25 años'\n",
    "otra_frase = \"Hola, soy Juan Pérez y tengo 25 años\"\n",
    "\n",
    "persona = nombre + ' ' + apellido\n",
    "persona"
   ]
  },
  {
   "cell_type": "code",
   "execution_count": 10,
   "id": "fd2200f4",
   "metadata": {},
   "outputs": [
    {
     "name": "stdout",
     "output_type": "stream",
     "text": [
      "JuanJuanJuan\n"
     ]
    }
   ],
   "source": [
    "nombre = 'Juan' * 3\n",
    "print(nombre) #JuanJuanJuan"
   ]
  },
  {
   "cell_type": "code",
   "execution_count": 12,
   "id": "bbaefe8e",
   "metadata": {},
   "outputs": [
    {
     "name": "stdout",
     "output_type": "stream",
     "text": [
      "J\n",
      "n\n",
      "Ju\n"
     ]
    }
   ],
   "source": [
    "#Acceso a caracteres\n",
    "print(nombre[0]) #J\n",
    "print(nombre[-1]) #n\n",
    "\n",
    "#slicing\n",
    "print(nombre[0:2]) #Ju"
   ]
  },
  {
   "cell_type": "code",
   "execution_count": 13,
   "id": "cf589d0e",
   "metadata": {},
   "outputs": [
    {
     "data": {
      "text/plain": [
       "12"
      ]
     },
     "execution_count": 13,
     "metadata": {},
     "output_type": "execute_result"
    }
   ],
   "source": [
    "len(nombre)"
   ]
  },
  {
   "cell_type": "code",
   "execution_count": 14,
   "id": "62e126f6",
   "metadata": {},
   "outputs": [
    {
     "data": {
      "text/plain": [
       "'JUANJUANJUAN'"
      ]
     },
     "execution_count": 14,
     "metadata": {},
     "output_type": "execute_result"
    }
   ],
   "source": [
    "nombre.upper() #convierte a mayusculas"
   ]
  },
  {
   "cell_type": "code",
   "execution_count": 17,
   "id": "b133fc3d",
   "metadata": {},
   "outputs": [
    {
     "data": {
      "text/plain": [
       "'juanjuanjuan'"
      ]
     },
     "execution_count": 17,
     "metadata": {},
     "output_type": "execute_result"
    }
   ],
   "source": [
    "nombre = nombre.lower()\n",
    "nombre"
   ]
  },
  {
   "cell_type": "code",
   "execution_count": 18,
   "id": "3a62b141",
   "metadata": {},
   "outputs": [
    {
     "data": {
      "text/plain": [
       "'Juan'"
      ]
     },
     "execution_count": 18,
     "metadata": {},
     "output_type": "execute_result"
    }
   ],
   "source": [
    "nombre = 'Juan'\n",
    "nombre.capitalize() #convierte la primera letra a mayuscula"
   ]
  },
  {
   "cell_type": "code",
   "execution_count": 19,
   "id": "4c1b601d",
   "metadata": {},
   "outputs": [
    {
     "data": {
      "text/plain": [
       "'hola Juan'"
      ]
     },
     "execution_count": 19,
     "metadata": {},
     "output_type": "execute_result"
    }
   ],
   "source": [
    "reemplazo = 'hola mundo'.replace('mundo', 'Juan')\n",
    "reemplazo"
   ]
  },
  {
   "cell_type": "code",
   "execution_count": 20,
   "id": "c86e7caf",
   "metadata": {},
   "outputs": [
    {
     "data": {
      "text/plain": [
       "True"
      ]
     },
     "execution_count": 20,
     "metadata": {},
     "output_type": "execute_result"
    }
   ],
   "source": [
    "#verificar si existe una subcadena\n",
    "contiene = 'hola' in 'hola mundo'\n",
    "contiene"
   ]
  },
  {
   "cell_type": "markdown",
   "id": "1894c04c",
   "metadata": {},
   "source": [
    "### Valores booleanos (bool)"
   ]
  },
  {
   "cell_type": "code",
   "execution_count": 21,
   "id": "e2a489a7",
   "metadata": {},
   "outputs": [
    {
     "data": {
      "text/plain": [
       "True"
      ]
     },
     "execution_count": 21,
     "metadata": {},
     "output_type": "execute_result"
    }
   ],
   "source": [
    "es_estudiante = True\n",
    "tiene_permiso = False\n",
    "es_estudiante"
   ]
  },
  {
   "cell_type": "code",
   "execution_count": 25,
   "id": "9576b45e",
   "metadata": {},
   "outputs": [
    {
     "name": "stdout",
     "output_type": "stream",
     "text": [
      "False\n",
      "True\n",
      "False\n"
     ]
    }
   ],
   "source": [
    "si_llueve_en_sevilla = True and False #False\n",
    "print(si_llueve_en_sevilla)\n",
    "si_llueve_en_sevilla = True or False #True\n",
    "print(si_llueve_en_sevilla)\n",
    "si_llueve_en_sevilla = not True #False\n",
    "print(si_llueve_en_sevilla)"
   ]
  },
  {
   "cell_type": "code",
   "execution_count": 27,
   "id": "6b1b02bb",
   "metadata": {},
   "outputs": [
    {
     "data": {
      "text/plain": [
       "True"
      ]
     },
     "execution_count": 27,
     "metadata": {},
     "output_type": "execute_result"
    }
   ],
   "source": [
    "mayor = 10 > 3 #True\n",
    "mayor"
   ]
  },
  {
   "cell_type": "code",
   "execution_count": 28,
   "id": "d72fce01",
   "metadata": {},
   "outputs": [
    {
     "data": {
      "text/plain": [
       "False"
      ]
     },
     "execution_count": 28,
     "metadata": {},
     "output_type": "execute_result"
    }
   ],
   "source": [
    "menor = 10 < 3 #False\n",
    "menor"
   ]
  },
  {
   "cell_type": "code",
   "execution_count": 29,
   "id": "de102fc0",
   "metadata": {},
   "outputs": [
    {
     "data": {
      "text/plain": [
       "True"
      ]
     },
     "execution_count": 29,
     "metadata": {},
     "output_type": "execute_result"
    }
   ],
   "source": [
    "igual = 10 == 10 #True\n",
    "igual"
   ]
  },
  {
   "cell_type": "code",
   "execution_count": 30,
   "id": "d827f704",
   "metadata": {},
   "outputs": [
    {
     "data": {
      "text/plain": [
       "False"
      ]
     },
     "execution_count": 30,
     "metadata": {},
     "output_type": "execute_result"
    }
   ],
   "source": [
    "diferente = 10 != 10 #False\n",
    "diferente"
   ]
  },
  {
   "cell_type": "code",
   "execution_count": 31,
   "id": "c410c487",
   "metadata": {},
   "outputs": [
    {
     "data": {
      "text/plain": [
       "True"
      ]
     },
     "execution_count": 31,
     "metadata": {},
     "output_type": "execute_result"
    }
   ],
   "source": [
    "diferente = 10 != 11 #True\n",
    "diferente"
   ]
  },
  {
   "cell_type": "code",
   "execution_count": 32,
   "id": "ad511245",
   "metadata": {},
   "outputs": [
    {
     "data": {
      "text/plain": [
       "True"
      ]
     },
     "execution_count": 32,
     "metadata": {},
     "output_type": "execute_result"
    }
   ],
   "source": [
    "mayor_igual = 10 >= 10 #True\n",
    "mayor_igual"
   ]
  },
  {
   "cell_type": "code",
   "execution_count": 33,
   "id": "755c79ef",
   "metadata": {},
   "outputs": [
    {
     "data": {
      "text/plain": [
       "True"
      ]
     },
     "execution_count": 33,
     "metadata": {},
     "output_type": "execute_result"
    }
   ],
   "source": [
    "menor_igual = 10 <= 10 #True\n",
    "menor_igual"
   ]
  },
  {
   "cell_type": "code",
   "execution_count": 34,
   "id": "98d1893f",
   "metadata": {},
   "outputs": [
    {
     "data": {
      "text/plain": [
       "True"
      ]
     },
     "execution_count": 34,
     "metadata": {},
     "output_type": "execute_result"
    }
   ],
   "source": [
    "#verificación\n",
    "es_entero = isinstance(10, int) #True\n",
    "es_entero"
   ]
  },
  {
   "cell_type": "code",
   "execution_count": 37,
   "id": "c968b653",
   "metadata": {},
   "outputs": [
    {
     "data": {
      "text/plain": [
       "False"
      ]
     },
     "execution_count": 37,
     "metadata": {},
     "output_type": "execute_result"
    }
   ],
   "source": [
    "es_flotante = isinstance(10, float) #True\n",
    "es_flotante"
   ]
  },
  {
   "cell_type": "markdown",
   "id": "d0ce3c44",
   "metadata": {},
   "source": [
    "### Operadores"
   ]
  },
  {
   "cell_type": "code",
   "execution_count": 38,
   "id": "57eff5e9",
   "metadata": {},
   "outputs": [],
   "source": [
    "a = 10\n",
    "b = 3"
   ]
  },
  {
   "cell_type": "code",
   "execution_count": 39,
   "id": "be82204a",
   "metadata": {},
   "outputs": [
    {
     "data": {
      "text/plain": [
       "13"
      ]
     },
     "execution_count": 39,
     "metadata": {},
     "output_type": "execute_result"
    }
   ],
   "source": [
    "suma = a + b #suma\n",
    "suma"
   ]
  },
  {
   "cell_type": "code",
   "execution_count": 40,
   "id": "1dc82768",
   "metadata": {},
   "outputs": [
    {
     "data": {
      "text/plain": [
       "3.3333333333333335"
      ]
     },
     "execution_count": 40,
     "metadata": {},
     "output_type": "execute_result"
    }
   ],
   "source": [
    "division = a / b #division\n",
    "division"
   ]
  },
  {
   "cell_type": "code",
   "execution_count": 43,
   "id": "b7436afe",
   "metadata": {},
   "outputs": [],
   "source": [
    "resultados = (2 + 3) * 4\n"
   ]
  },
  {
   "cell_type": "code",
   "execution_count": 44,
   "id": "669f0f09",
   "metadata": {},
   "outputs": [
    {
     "data": {
      "text/plain": [
       "20"
      ]
     },
     "execution_count": 44,
     "metadata": {},
     "output_type": "execute_result"
    }
   ],
   "source": [
    "resultados"
   ]
  },
  {
   "cell_type": "code",
   "execution_count": 45,
   "id": "4a99f31f",
   "metadata": {},
   "outputs": [],
   "source": [
    "def suma(a, b):\n",
    "    return a + b"
   ]
  },
  {
   "cell_type": "code",
   "execution_count": 52,
   "id": "67927be3",
   "metadata": {},
   "outputs": [],
   "source": [
    "a = 5\n",
    "b = 10"
   ]
  },
  {
   "cell_type": "code",
   "execution_count": 53,
   "id": "e1457104",
   "metadata": {},
   "outputs": [],
   "source": [
    "igualdad = a == b\n",
    "diferente = a != b\n",
    "mayor = a > b\n",
    "menor = a < b\n",
    "mayor_igual = a >= b\n",
    "menor_igual = a <= b\n",
    "\n",
    "#comparación concatenada\n",
    "en_rango = 1 < a < 10"
   ]
  },
  {
   "cell_type": "code",
   "execution_count": 54,
   "id": "57d45e53",
   "metadata": {},
   "outputs": [
    {
     "data": {
      "text/plain": [
       "True"
      ]
     },
     "execution_count": 54,
     "metadata": {},
     "output_type": "execute_result"
    }
   ],
   "source": [
    "en_rango"
   ]
  },
  {
   "cell_type": "markdown",
   "id": "c6b765d4",
   "metadata": {},
   "source": [
    "### Estructuras de control\n",
    "Condicionales : if, elif, else"
   ]
  },
  {
   "cell_type": "code",
   "execution_count": 55,
   "id": "a9c128b1",
   "metadata": {},
   "outputs": [
    {
     "name": "stdout",
     "output_type": "stream",
     "text": [
      "Eres mayor de edad\n"
     ]
    }
   ],
   "source": [
    "edad = 19\n",
    "\n",
    "if edad >= 18:\n",
    "    print('Eres mayor de edad') #Eres mayor de edad\n",
    "elif edad == 17:\n",
    "    print('Eres un adolescente') #Eres un adolescente\n",
    "else:\n",
    "    print('Eres menor de edad') #Eres menor de edad"
   ]
  },
  {
   "cell_type": "code",
   "execution_count": 57,
   "id": "daff1588",
   "metadata": {},
   "outputs": [
    {
     "name": "stdout",
     "output_type": "stream",
     "text": [
      "No hace calor\n"
     ]
    }
   ],
   "source": [
    "temperatura = 15\n",
    "if temperatura > 25:\n",
    "    print('Hace calor')\n",
    "else:\n",
    "    print('No hace calor')"
   ]
  },
  {
   "cell_type": "code",
   "execution_count": 58,
   "id": "db57ed6d",
   "metadata": {},
   "outputs": [
    {
     "name": "stdout",
     "output_type": "stream",
     "text": [
      "La nota es notable\n"
     ]
    }
   ],
   "source": [
    "nota = 85\n",
    "\n",
    "if nota >= 90:\n",
    "    print('La nota es sobresaliente')\n",
    "elif nota >= 80:\n",
    "    print('La nota es notable')\n",
    "elif nota >= 70:\n",
    "    print('La nota es bien')\n",
    "elif nota >= 60:    \n",
    "    print('La nota es suficiente')\n",
    "else:\n",
    "    print('La nota es insuficiente')"
   ]
  },
  {
   "cell_type": "code",
   "execution_count": 59,
   "id": "384cf270",
   "metadata": {},
   "outputs": [
    {
     "name": "stdout",
     "output_type": "stream",
     "text": [
      "Bienvenido al sistema\n",
      "No tienes permisos de administrador\n"
     ]
    }
   ],
   "source": [
    "#anidar un condicional\n",
    "\n",
    "usuario_activo = True\n",
    "es_admin = False\n",
    "\n",
    "if usuario_activo:\n",
    "    print('Bienvenido al sistema')\n",
    "    if es_admin:\n",
    "        print('EresTienes permisos de administrador')\n",
    "    else:\n",
    "        print('No tienes permisos de administrador')\n",
    "else:\n",
    "    print('Usuario inactivo')"
   ]
  },
  {
   "cell_type": "markdown",
   "id": "301ba9ac",
   "metadata": {},
   "source": [
    "### Bucles"
   ]
  },
  {
   "cell_type": "code",
   "execution_count": 60,
   "id": "f27b0b7d",
   "metadata": {},
   "outputs": [],
   "source": [
    "frutas = ['manzana', 'banana', 'naranja']"
   ]
  },
  {
   "cell_type": "code",
   "execution_count": 61,
   "id": "672191d9",
   "metadata": {},
   "outputs": [
    {
     "name": "stdout",
     "output_type": "stream",
     "text": [
      "manzana\n",
      "banana\n",
      "naranja\n"
     ]
    }
   ],
   "source": [
    "for fruta in frutas:\n",
    "    print(fruta) #manzana, banana, naranja"
   ]
  },
  {
   "cell_type": "code",
   "execution_count": 62,
   "id": "3a78d68e",
   "metadata": {},
   "outputs": [
    {
     "name": "stdout",
     "output_type": "stream",
     "text": [
      "p\n",
      "y\n",
      "t\n",
      "h\n",
      "o\n",
      "n\n"
     ]
    }
   ],
   "source": [
    "for letra in 'python':\n",
    "    print(letra) #p, y, t, h, o, n  "
   ]
  },
  {
   "cell_type": "code",
   "execution_count": 63,
   "id": "fcf20a14",
   "metadata": {},
   "outputs": [
    {
     "name": "stdout",
     "output_type": "stream",
     "text": [
      "0\n",
      "1\n",
      "2\n",
      "3\n",
      "4\n",
      "5\n",
      "6\n",
      "7\n",
      "8\n",
      "9\n"
     ]
    }
   ],
   "source": [
    "for i in range(10):\n",
    "    print(i) #0, 1, 2, 3, 4"
   ]
  },
  {
   "cell_type": "code",
   "execution_count": 64,
   "id": "d49835ca",
   "metadata": {},
   "outputs": [
    {
     "name": "stdout",
     "output_type": "stream",
     "text": [
      "2\n",
      "4\n",
      "6\n",
      "8\n"
     ]
    }
   ],
   "source": [
    "for i in range(2,10,2):\n",
    "    print(i) #2, 4, 6, 8"
   ]
  },
  {
   "cell_type": "code",
   "execution_count": 66,
   "id": "3d52f00a",
   "metadata": {},
   "outputs": [
    {
     "name": "stdout",
     "output_type": "stream",
     "text": [
      "p\n",
      "Y\n",
      " \n",
      "t\n",
      "h\n",
      " \n",
      "o\n",
      "n\n"
     ]
    }
   ],
   "source": [
    "for letra in 'py th on':\n",
    "    if letra == 'y':\n",
    "        print(letra.upper()) #P\n",
    "    else:\n",
    "        print(letra)"
   ]
  },
  {
   "cell_type": "code",
   "execution_count": 67,
   "id": "bc343140",
   "metadata": {},
   "outputs": [
    {
     "name": "stdout",
     "output_type": "stream",
     "text": [
      "9\n",
      "8\n",
      "7\n",
      "6\n",
      "5\n",
      "4\n",
      "3\n",
      "2\n",
      "1\n",
      "0\n"
     ]
    }
   ],
   "source": [
    "for i in range(9, -1, -1):\n",
    "    print(i)\n"
   ]
  },
  {
   "cell_type": "code",
   "execution_count": 68,
   "id": "f481de8f",
   "metadata": {},
   "outputs": [
    {
     "name": "stdout",
     "output_type": "stream",
     "text": [
      "9\n",
      "8\n",
      "7\n",
      "6\n",
      "5\n",
      "4\n",
      "3\n",
      "2\n",
      "1\n",
      "0\n"
     ]
    }
   ],
   "source": [
    "for i in range(10):\n",
    "    print(9 - i)\n"
   ]
  },
  {
   "cell_type": "code",
   "execution_count": 69,
   "id": "07dbc46f",
   "metadata": {},
   "outputs": [
    {
     "name": "stdout",
     "output_type": "stream",
     "text": [
      "9\n",
      "8\n",
      "7\n",
      "6\n",
      "5\n",
      "4\n",
      "3\n",
      "2\n",
      "1\n",
      "0\n"
     ]
    }
   ],
   "source": [
    "numeros = range(10)\n",
    "for i in numeros[::-1]:\n",
    "    print(i) #0, 1, 2, 3, 4, 5, 6, 7, 8, 9"
   ]
  },
  {
   "cell_type": "markdown",
   "id": "10091261",
   "metadata": {},
   "source": [
    "### while"
   ]
  },
  {
   "cell_type": "code",
   "execution_count": 70,
   "id": "8c740e52",
   "metadata": {},
   "outputs": [
    {
     "name": "stdout",
     "output_type": "stream",
     "text": [
      "0\n",
      "1\n",
      "2\n",
      "3\n",
      "4\n",
      "5\n",
      "6\n",
      "7\n",
      "8\n",
      "9\n"
     ]
    }
   ],
   "source": [
    "contador = 0\n",
    "while contador < 10:    \n",
    "    print(contador) #0, 1, 2, 3, 4, 5, 6, 7, 8, 9\n",
    "    contador += 1 #incrementar el contador  "
   ]
  },
  {
   "cell_type": "code",
   "execution_count": 77,
   "id": "368e33e4",
   "metadata": {},
   "outputs": [
    {
     "name": "stdout",
     "output_type": "stream",
     "text": [
      "x = 0, y = 10\n",
      "x = 1, y = 8\n",
      "x = 2, y = 6\n",
      "x = 3, y = 4\n",
      "x = 4, y = 2\n"
     ]
    }
   ],
   "source": [
    "x = 0\n",
    "y = 10\n",
    "\n",
    "while x < 5 and y > 0:\n",
    "    print(f\"x = {x}, y = {y}\")\n",
    "    x += 1\n",
    "    y -= 2\n",
    "    "
   ]
  },
  {
   "cell_type": "code",
   "execution_count": 76,
   "id": "4780c4b8",
   "metadata": {},
   "outputs": [
    {
     "name": "stdout",
     "output_type": "stream",
     "text": [
      "0\n",
      "1\n",
      "2\n",
      "3\n",
      "4\n"
     ]
    }
   ],
   "source": [
    "contador = 0\n",
    "while True:\n",
    "    print(contador) #0, 1, 2, 3, 4, 5, 6, 7, 8, 9\n",
    "    contador += 1 #incrementar el contador\n",
    "    if contador >= 5:\n",
    "        break"
   ]
  },
  {
   "cell_type": "code",
   "execution_count": 80,
   "id": "185b5d97",
   "metadata": {},
   "outputs": [],
   "source": [
    "numeros = [1, 2, 3, 4, 5] #tambien llamado array multi-dimensión o array de 1 dimensión o lista de 1 dimensión o lista de 1D o lista unidimensional"
   ]
  },
  {
   "cell_type": "code",
   "execution_count": 83,
   "id": "adfe3426",
   "metadata": {},
   "outputs": [],
   "source": [
    "cuadrados =  [n**2 for n in numeros] #comprensión de listas\n",
    "# numero**2 for numero in numeros"
   ]
  },
  {
   "cell_type": "code",
   "execution_count": 85,
   "id": "88487edf",
   "metadata": {},
   "outputs": [
    {
     "name": "stdout",
     "output_type": "stream",
     "text": [
      "1\n",
      "4\n",
      "9\n",
      "16\n",
      "25\n"
     ]
    }
   ],
   "source": [
    "for numero in numeros:\n",
    "    print(numero**2)"
   ]
  },
  {
   "cell_type": "code",
   "execution_count": 86,
   "id": "0fba5e3e",
   "metadata": {},
   "outputs": [
    {
     "data": {
      "text/plain": [
       "[1, 4, 9, 16, 25]"
      ]
     },
     "execution_count": 86,
     "metadata": {},
     "output_type": "execute_result"
    }
   ],
   "source": [
    "cuadrados"
   ]
  },
  {
   "cell_type": "code",
   "execution_count": null,
   "id": "9bc0d8a0",
   "metadata": {},
   "outputs": [
    {
     "data": {
      "text/plain": [
       "[2, 4]"
      ]
     },
     "execution_count": 87,
     "metadata": {},
     "output_type": "execute_result"
    }
   ],
   "source": [
    "pares = [numero for numero in numeros if numero % 2 == 0] #comprensión de listas\n",
    "pares\n",
    "# porcadaelemento que haya en numeros si cadaelemento tiene resto 0"
   ]
  },
  {
   "cell_type": "code",
   "execution_count": 88,
   "id": "39c771ec",
   "metadata": {},
   "outputs": [
    {
     "name": "stdout",
     "output_type": "stream",
     "text": [
      "[2, 4]\n"
     ]
    }
   ],
   "source": [
    "pares =[]\n",
    "for numero in numeros:\n",
    "    if numero % 2 == 0:\n",
    "        pares.append(numero)\n",
    "print(pares) #2, 4"
   ]
  },
  {
   "cell_type": "code",
   "execution_count": 94,
   "id": "7fca0167",
   "metadata": {},
   "outputs": [],
   "source": [
    "lista_vacia = [] #lista vacia\n",
    "lista_numeros = [1, 2, 3, 4, 5] #lista de numeros\n",
    "lista_cadenas = ['hola', 'mundo'] #lista de cadenas de texto\n",
    "lista_mixta = [1, 2.5,'hola',True, [1,2,3], (1,2),{1:'uno', 2:'dos'}] #lista mixta                  \n",
    "lista_anidada = [1, 2, [3, 4], 5] #lista anidada"
   ]
  },
  {
   "cell_type": "code",
   "execution_count": 105,
   "id": "30efedb3",
   "metadata": {},
   "outputs": [
    {
     "data": {
      "text/plain": [
       "3"
      ]
     },
     "execution_count": 105,
     "metadata": {},
     "output_type": "execute_result"
    }
   ],
   "source": [
    "lista_mixta[4][2]"
   ]
  },
  {
   "cell_type": "code",
   "execution_count": 98,
   "id": "9ea2b8f8",
   "metadata": {},
   "outputs": [],
   "source": [
    "numeros.append(6) #agregar un elemento al final de la lista"
   ]
  },
  {
   "cell_type": "code",
   "execution_count": 99,
   "id": "692de3d3",
   "metadata": {},
   "outputs": [
    {
     "data": {
      "text/plain": [
       "[1, 2, 3, 4, 5, 6]"
      ]
     },
     "execution_count": 99,
     "metadata": {},
     "output_type": "execute_result"
    }
   ],
   "source": [
    "numeros"
   ]
  },
  {
   "cell_type": "code",
   "execution_count": 101,
   "id": "d678ab5c",
   "metadata": {},
   "outputs": [
    {
     "data": {
      "text/plain": [
       "[6, 0, 1, 2, 3, 4, 5, 6]"
      ]
     },
     "execution_count": 101,
     "metadata": {},
     "output_type": "execute_result"
    }
   ],
   "source": [
    "numeros.insert(0, 6) #insertar un elemento en la posición 0 de la lista\n",
    "numeros"
   ]
  },
  {
   "cell_type": "code",
   "execution_count": 102,
   "id": "d5a4c978",
   "metadata": {},
   "outputs": [
    {
     "data": {
      "text/plain": [
       "[6, 0, 1, 2, 3, 4, 5, 6, 7, 8, 9]"
      ]
     },
     "execution_count": 102,
     "metadata": {},
     "output_type": "execute_result"
    }
   ],
   "source": [
    "numeros.extend([7, 8, 9]) #agregar varios elementos al final de la lista\n",
    "numeros"
   ]
  },
  {
   "cell_type": "code",
   "execution_count": 103,
   "id": "442d4afe",
   "metadata": {},
   "outputs": [
    {
     "data": {
      "text/plain": [
       "[6, 0, 1, 2, 3, 4, 5, 6, 7, 8]"
      ]
     },
     "execution_count": 103,
     "metadata": {},
     "output_type": "execute_result"
    }
   ],
   "source": [
    "numeros.pop() #eliminar el último elemento de la lista\n",
    "numeros"
   ]
  },
  {
   "cell_type": "code",
   "execution_count": 104,
   "id": "e2a1da4a",
   "metadata": {},
   "outputs": [
    {
     "data": {
      "text/plain": [
       "[6, 0, 1, 3, 4, 5, 6, 7, 8]"
      ]
     },
     "execution_count": 104,
     "metadata": {},
     "output_type": "execute_result"
    }
   ],
   "source": [
    "numeros.remove(2)   #eliminar el primer elemento que coincida con el valor 2 de la lista\n",
    "numeros"
   ]
  },
  {
   "cell_type": "code",
   "execution_count": 106,
   "id": "d118e907",
   "metadata": {},
   "outputs": [],
   "source": [
    "numeros_2 = [1,2,3,4,5,5,5,3,2,1]"
   ]
  },
  {
   "cell_type": "code",
   "execution_count": 107,
   "id": "b8eb669d",
   "metadata": {},
   "outputs": [
    {
     "data": {
      "text/plain": [
       "3"
      ]
     },
     "execution_count": 107,
     "metadata": {},
     "output_type": "execute_result"
    }
   ],
   "source": [
    "numeros_2.count(5)"
   ]
  },
  {
   "cell_type": "code",
   "execution_count": 108,
   "id": "818f7d0d",
   "metadata": {},
   "outputs": [
    {
     "data": {
      "text/plain": [
       "[1, 1, 2, 2, 3, 3, 4, 5, 5, 5]"
      ]
     },
     "execution_count": 108,
     "metadata": {},
     "output_type": "execute_result"
    }
   ],
   "source": [
    "numeros_2.sort() #ordenar la lista de menor a mayor\n",
    "numeros_2"
   ]
  },
  {
   "cell_type": "code",
   "execution_count": 109,
   "id": "9411e7bc",
   "metadata": {},
   "outputs": [
    {
     "data": {
      "text/plain": [
       "[5, 5, 5, 4, 3, 3, 2, 2, 1, 1]"
      ]
     },
     "execution_count": 109,
     "metadata": {},
     "output_type": "execute_result"
    }
   ],
   "source": [
    "numeros_2.sort(reverse=True) #ordenar la lista de mayor a menor\n",
    "numeros_2"
   ]
  },
  {
   "cell_type": "code",
   "execution_count": 110,
   "id": "cd956353",
   "metadata": {},
   "outputs": [
    {
     "data": {
      "text/plain": [
       "[1, 1, 2, 2, 3, 3, 4, 5, 5, 5]"
      ]
     },
     "execution_count": 110,
     "metadata": {},
     "output_type": "execute_result"
    }
   ],
   "source": [
    "numeros_2.reverse() #invertir el orden de la lista\n",
    "numeros_2"
   ]
  },
  {
   "cell_type": "code",
   "execution_count": 111,
   "id": "d3b19cd6",
   "metadata": {},
   "outputs": [
    {
     "data": {
      "text/plain": [
       "[1, 1, 2, 2, 3, 3, 4, 5, 5, 5]"
      ]
     },
     "execution_count": 111,
     "metadata": {},
     "output_type": "execute_result"
    }
   ],
   "source": [
    "copia = numeros_2.copy() #copiar la lista\n",
    "copia"
   ]
  },
  {
   "cell_type": "code",
   "execution_count": 112,
   "id": "0367fdf7",
   "metadata": {},
   "outputs": [
    {
     "data": {
      "text/plain": [
       "[]"
      ]
     },
     "execution_count": 112,
     "metadata": {},
     "output_type": "execute_result"
    }
   ],
   "source": [
    "copia.clear() #limpiar la lista\n",
    "copia"
   ]
  }
 ],
 "metadata": {
  "kernelspec": {
   "display_name": "Python 3",
   "language": "python",
   "name": "python3"
  },
  "language_info": {
   "codemirror_mode": {
    "name": "ipython",
    "version": 3
   },
   "file_extension": ".py",
   "mimetype": "text/x-python",
   "name": "python",
   "nbconvert_exporter": "python",
   "pygments_lexer": "ipython3",
   "version": "3.13.1"
  }
 },
 "nbformat": 4,
 "nbformat_minor": 5
}
