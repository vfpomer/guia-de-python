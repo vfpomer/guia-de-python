{
 "cells": [
  {
   "cell_type": "markdown",
   "id": "af78ef9f",
   "metadata": {},
   "source": [
    "Escribe un programa que imprima todos los números pares del 1 al 20."
   ]
  },
  {
   "cell_type": "code",
   "execution_count": 7,
   "id": "0fed9c5a",
   "metadata": {},
   "outputs": [
    {
     "name": "stdout",
     "output_type": "stream",
     "text": [
      "[2, 4, 6, 8, 10, 12, 14, 16, 18, 20]\n",
      "2\n",
      "4\n",
      "6\n",
      "8\n",
      "10\n",
      "12\n",
      "14\n",
      "16\n",
      "18\n",
      "20\n",
      "2\n",
      "4\n",
      "6\n",
      "8\n",
      "10\n",
      "12\n",
      "14\n",
      "16\n",
      "18\n",
      "20\n"
     ]
    }
   ],
   "source": [
    "numeros = [1,2,3,4,5,6,7,8,9,10,11,12,13,14,15,16,17,18,19,20]\n",
    "numeros_pares = [numero for numero in numeros if numero % 2 == 0]\n",
    "print(numeros_pares)\n",
    "\n",
    "for num in range(1, 21):\n",
    "    if num % 2 == 0:\n",
    "        print(num)\n",
    "\n",
    "for numero in range(2,21,2):\n",
    "    print(numero)\n"
   ]
  },
  {
   "cell_type": "markdown",
   "id": "a3a7aaea",
   "metadata": {},
   "source": [
    "Escribe un programa que calcule la suma de todos los números del 1 al 100"
   ]
  },
  {
   "cell_type": "code",
   "execution_count": 7,
   "id": "2dc06efe",
   "metadata": {},
   "outputs": [
    {
     "name": "stdout",
     "output_type": "stream",
     "text": [
      "La suma de todos los números del 1 al 100 es: 5050\n"
     ]
    }
   ],
   "source": [
    "suma = sum(range (1,101))\n",
    "print(f'La suma de todos los números del 1 al 100 es: {suma}')"
   ]
  },
  {
   "cell_type": "markdown",
   "id": "cd2dad1e",
   "metadata": {},
   "source": [
    "Escribe un programa que muestre la tabla de multiplicar de un número ingresado por el usuario (del 1 al 10)."
   ]
  },
  {
   "cell_type": "code",
   "execution_count": 11,
   "id": "c738a2ee",
   "metadata": {},
   "outputs": [
    {
     "name": "stdout",
     "output_type": "stream",
     "text": [
      "La tabla del 7 es: 7 x 1 = 7\n",
      "La tabla del 7 es: 7 x 2 = 14\n",
      "La tabla del 7 es: 7 x 3 = 21\n",
      "La tabla del 7 es: 7 x 4 = 28\n",
      "La tabla del 7 es: 7 x 5 = 35\n",
      "La tabla del 7 es: 7 x 6 = 42\n",
      "La tabla del 7 es: 7 x 7 = 49\n",
      "La tabla del 7 es: 7 x 8 = 56\n",
      "La tabla del 7 es: 7 x 9 = 63\n",
      "La tabla del 7 es: 7 x 10 = 70\n",
      "Tabla de multiplicar del 5:\n",
      "----------\n",
      "5 x 1 = 5\n",
      "5 x 2 = 10\n",
      "5 x 3 = 15\n",
      "5 x 4 = 20\n",
      "5 x 5 = 25\n",
      "5 x 6 = 30\n",
      "5 x 7 = 35\n",
      "5 x 8 = 40\n",
      "5 x 9 = 45\n",
      "5 x 10 = 50\n"
     ]
    }
   ],
   "source": [
    "numero_ingresado = int(input('Ingrese un número y te dire su tabla de multiplicar: '))\n",
    "\n",
    "for numero in range(1, 11):\n",
    "    resultado = numero_ingresado * numero\n",
    "    print(f'La tabla del {numero_ingresado} es: {numero_ingresado} x {numero} = {resultado}')\n",
    "\n",
    "numero = int(input(\"Introduce un número entre el 1 y el 10:\\n\"))\n",
    "if 1 <= numero <= 10:\n",
    "    print(f\"Tabla de multiplicar del {numero}:\")\n",
    "    print(\"-\" * 10)\n",
    "   \n",
    "    for i in range(1, 11):\n",
    "        resultado = numero * i\n",
    "        print(f\"{numero} x {i} = {resultado}\")\n",
    "else:\n",
    "    print(\"El número debe estar entre 1 y 10.\")\n"
   ]
  },
  {
   "cell_type": "markdown",
   "id": "c750aae2",
   "metadata": {},
   "source": [
    "Escribe un programa que encuentre el número más grande en una lista."
   ]
  },
  {
   "cell_type": "code",
   "execution_count": 12,
   "id": "716e4f20",
   "metadata": {},
   "outputs": [
    {
     "name": "stdout",
     "output_type": "stream",
     "text": [
      "El número más alto es: 89\n",
      "89\n"
     ]
    }
   ],
   "source": [
    "numeros = [45, 67, 12, 89, 34, 56, 23, 9, 78]\n",
    "numeros.sort()\n",
    "print(f'El número más alto es: {numeros[-1]}')\n",
    "\n",
    "print(max(numeros))"
   ]
  },
  {
   "cell_type": "markdown",
   "id": "37d4336d",
   "metadata": {},
   "source": [
    "Escribe un programa que cuente cuántas vocales hay en una palabra ingresada por el usuario."
   ]
  },
  {
   "cell_type": "code",
   "execution_count": 14,
   "id": "c51acf9e",
   "metadata": {},
   "outputs": [
    {
     "name": "stdout",
     "output_type": "stream",
     "text": [
      "La palabra \"programacion\" tiene 5 vocales.\n",
      "La palabra \"bootcam`p\" tiene 3 vocales.\n"
     ]
    }
   ],
   "source": [
    "palabra = input(\"Introduce una palabra: \").lower()\n",
    "vocales = 'aeiou'\n",
    "contador_vocales = 0\n",
    "for letra in palabra:\n",
    "    if letra in vocales:\n",
    "        contador_vocales += 1\n",
    "print(f'La palabra \"{palabra}\" tiene {contador_vocales} vocales.')\n",
    "\n",
    "palabra = input(\"Introduce una palabra: \").lower()\n",
    "vocal = ['a', 'e', 'i', 'o', 'u']\n",
    "contador_vocales2 = 0\n",
    "for letra in palabra:\n",
    "    if letra in vocal:\n",
    "        contador_vocales2 += 1\n",
    "print(f'La palabra \"{palabra}\" tiene {contador_vocales2} vocales.')"
   ]
  },
  {
   "cell_type": "code",
   "execution_count": null,
   "id": "25e57de4",
   "metadata": {},
   "outputs": [],
   "source": []
  }
 ],
 "metadata": {
  "kernelspec": {
   "display_name": "Python 3",
   "language": "python",
   "name": "python3"
  },
  "language_info": {
   "codemirror_mode": {
    "name": "ipython",
    "version": 3
   },
   "file_extension": ".py",
   "mimetype": "text/x-python",
   "name": "python",
   "nbconvert_exporter": "python",
   "pygments_lexer": "ipython3",
   "version": "3.13.1"
  }
 },
 "nbformat": 4,
 "nbformat_minor": 5
}
